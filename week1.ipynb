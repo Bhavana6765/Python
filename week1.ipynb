{
  "metadata": {
    "kernelspec": {
      "name": "python",
      "display_name": "Python (Pyodide)",
      "language": "python"
    },
    "language_info": {
      "codemirror_mode": {
        "name": "python",
        "version": 3
      },
      "file_extension": ".py",
      "mimetype": "text/x-python",
      "name": "python",
      "nbconvert_exporter": "python",
      "pygments_lexer": "ipython3",
      "version": "3.8"
    }
  },
  "nbformat_minor": 4,
  "nbformat": 4,
  "cells": [
    {
      "cell_type": "code",
      "source": "a=8\nb=2\nprint(\"Sum is \",a+b)\nprint(\"Difference is \",a-b)\nprint(\"Multiplication is \",a*b)\nprint(\"Division is \",a/b)\nprint(\"Power is \",a**b)\nprint(\"Floor division is \",a//b)\nprint(\"Remainder is \",a%b)",
      "metadata": {
        "trusted": true
      },
      "outputs": [
        {
          "name": "stdout",
          "text": "Sum is  10\nDifference is  6\nMultiplication is  16\nDivision is  4.0\nPower is  64\nFloor division is  4\nRemainder is  0\n",
          "output_type": "stream"
        }
      ],
      "execution_count": 1
    },
    {
      "cell_type": "code",
      "source": "x=6\nif(x%2==0):\nprint(\"It is even number\")\nelse:\nprint(\"It is odd number\")",
      "metadata": {
        "trusted": true
      },
      "outputs": [
        {
          "ename": "<class 'IndentationError'>",
          "evalue": "expected an indented block after 'if' statement on line 2 (<ipython-input-8-cae3d8476e5d>, line 3)",
          "traceback": [
            "\u001b[0;36m  Cell \u001b[0;32mIn[8], line 3\u001b[0;36m\u001b[0m\n\u001b[0;31m    print(\"It is even number\")\u001b[0m\n\u001b[0m    ^\u001b[0m\n\u001b[0;31mIndentationError\u001b[0m\u001b[0;31m:\u001b[0m expected an indented block after 'if' statement on line 2\n"
          ],
          "output_type": "error"
        }
      ],
      "execution_count": 8
    },
    {
      "cell_type": "code",
      "source": "x=6\nif(x%2==0):\n   print(\"It is even number\")\nelse:\n   print(\"It is odd number\")",
      "metadata": {
        "trusted": true
      },
      "outputs": [
        {
          "name": "stdout",
          "text": "It is even number\n",
          "output_type": "stream"
        }
      ],
      "execution_count": 9
    },
    {
      "cell_type": "code",
      "source": "principal=100\nrate=3\ntimes_compunded=5\nyears=5\nrate_decimal=rate/100\namount=principal *(1+rate_decimal/times_compunded) ** (times_compunded*years)\nprint(f\"The amount after {years} years is {amount:.2f}\")",
      "metadata": {
        "trusted": true
      },
      "outputs": [
        {
          "name": "stdout",
          "text": "The amount after 5 years is 116.13\n",
          "output_type": "stream"
        }
      ],
      "execution_count": 10
    },
    {
      "cell_type": "code",
      "source": "import math \nx1=6\nx2=4\ny1=3\ny2=4\ndistance= math.sqrt(pow(x2-x1,2) + pow(y2-y1,2))\nprint(f\"The distance between two points is: {distance:.2f}\")",
      "metadata": {
        "trusted": true
      },
      "outputs": [
        {
          "name": "stdout",
          "text": "The distance between two points is: 2.24\n",
          "output_type": "stream"
        }
      ],
      "execution_count": 12
    },
    {
      "cell_type": "code",
      "source": "print(\"The person details are \")\nname= input(\"Enter the name:\")\naddress=input(\"Enter the address:\")\nemail=input(\"Enter email:\")\nphoneno=input(\"Enter phoneno:\")",
      "metadata": {
        "trusted": true
      },
      "outputs": [
        {
          "name": "stdout",
          "text": "The person details are \n",
          "output_type": "stream"
        },
        {
          "output_type": "stream",
          "name": "stdin",
          "text": "Enter phoneno: 98765463210\nEnter the name: Bhavana\nEnter the address: pragathinagar\nEnter email: bhav123@gmail.com\n"
        }
      ],
      "execution_count": 13
    }
  ]
}