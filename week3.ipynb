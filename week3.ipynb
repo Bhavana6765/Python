{
  "metadata": {
    "kernelspec": {
      "name": "python",
      "display_name": "Python (Pyodide)",
      "language": "python"
    },
    "language_info": {
      "codemirror_mode": {
        "name": "python",
        "version": 3
      },
      "file_extension": ".py",
      "mimetype": "text/x-python",
      "name": "python",
      "nbconvert_exporter": "python",
      "pygments_lexer": "ipython3",
      "version": "3.8"
    }
  },
  "nbformat_minor": 4,
  "nbformat": 4,
  "cells": [
    {
      "cell_type": "code",
      "source": "from array import array\nlist=[1,2,3]\nlist_array=array(\"i\",list)\nprint('list_array:',list_array)\ntuple=(4,9,0)\ntuple_array=array(\"i\",tuple)\nprint(\"tuple_array:\",tuple_array)",
      "metadata": {
        "trusted": true
      },
      "outputs": [
        {
          "name": "stdout",
          "text": "list_array: array('i', [1, 2, 3])\ntuple_array: array('i', [4, 9, 0])\n",
          "output_type": "stream"
        }
      ],
      "execution_count": 2
    },
    {
      "cell_type": "code",
      "source": "from array import *\narray1=array('i',[7,8,9,8])\narray2=array('i',[23,33,11,8])\ncommon_values=[]\nfor i in array1:\n   for j in array2:\n      if i==j:\n         common_values.append(i)\ncommon_values=set(common_values)\nprint(common_values)",
      "metadata": {
        "trusted": true
      },
      "outputs": [
        {
          "name": "stdout",
          "text": "{8}\n",
          "output_type": "stream"
        }
      ],
      "execution_count": 4
    },
    {
      "cell_type": "code",
      "source": "def gcd(a, b):\n   while b:\n     a, b = b, a % b\n     return a\nnum1 = 42\nnum2 = 24\nresult = gcd(num1, num2)\nprint(\"GCD of\", num1, \"and\", num2, \"is:\", result)",
      "metadata": {
        "trusted": true
      },
      "outputs": [
        {
          "name": "stdout",
          "text": "GCD of 42 and 24 is: 24\n",
          "output_type": "stream"
        }
      ],
      "execution_count": 9
    },
    {
      "cell_type": "code",
      "source": "def palindrome(string):\n   len_string=len(string)\n   for i in range(0,int(len_string/2)):\n       if(string[i]==string[len_string-1]):\n          len_string=len_string-1\n          return True\n       else:\n          return False\na=\"amma\"\nc=palindrome(a)\nprint(c)",
      "metadata": {
        "trusted": true
      },
      "outputs": [
        {
          "name": "stdout",
          "text": "True\n",
          "output_type": "stream"
        }
      ],
      "execution_count": 11
    },
    {
      "cell_type": "code",
      "source": "import statistics as s\nn=5\nfor i in range(0,n):\n   elements=[8,3,5,6,65]\nprint(s.mean(elements),\"=mean\")\nprint(s.mode(elements),\"=mode\")\nprint(s.median(elements),\"=median\")",
      "metadata": {
        "trusted": true
      },
      "outputs": [
        {
          "name": "stdout",
          "text": "17.4 =mean\n8 =mode\n6 =median\n",
          "output_type": "stream"
        }
      ],
      "execution_count": 20
    },
    {
      "cell_type": "code",
      "source": "tuple1 = (1, 2, 3, 4, 5)\ntuple2 = ()\ntuple3 = (10,)\ntuple5 = (\"apple\", 3.14, True)\nprint(\"Tuple 1:\", tuple1)\nprint(\"Tuple 2:\", tuple2)\nprint(\"Tuple 3:\", tuple3)\nprint(\"Tuple 5:\", tuple5)",
      "metadata": {
        "trusted": true
      },
      "outputs": [
        {
          "name": "stdout",
          "text": "Tuple 1: (1, 2, 3, 4, 5)\nTuple 2: ()\nTuple 3: (10,)\nTuple 5: ('apple', 3.14, True)\n",
          "output_type": "stream"
        }
      ],
      "execution_count": 23
    },
    {
      "cell_type": "code",
      "source": "",
      "metadata": {
        "trusted": true
      },
      "outputs": [],
      "execution_count": null
    }
  ]
}