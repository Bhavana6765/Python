{
  "metadata": {
    "kernelspec": {
      "name": "python",
      "display_name": "Python (Pyodide)",
      "language": "python"
    },
    "language_info": {
      "codemirror_mode": {
        "name": "python",
        "version": 3
      },
      "file_extension": ".py",
      "mimetype": "text/x-python",
      "name": "python",
      "nbconvert_exporter": "python",
      "pygments_lexer": "ipython3",
      "version": "3.8"
    }
  },
  "nbformat_minor": 4,
  "nbformat": 4,
  "cells": [
    {
      "cell_type": "markdown",
      "source": "file1=open(\"t1.txt\",\"w\",encoding=\"utf-8\")\nfile2=open(\"t2.txt\",\"w\")\nfile1.write(\"hello\")\nfile2.write(\"world!\")\nfile1.close()\nfile2.close()\nfile1=open(\"t1.txt\",\"r\")\ndata1=file1.read()\nfile2=open(\"t2.txt\",\"r\")\ndata2=file2.read()\nfile1.close()\nfile2.close()\nfile3=open(\"t3.txt\",\"w\")\nfile3.write(data1+\" \"+data2)\nfile3.close()\nfile3=open(\"t3.txt\",\"r\")\ndata=file3.read()\nfile3.close()",
      "metadata": {}
    },
    {
      "cell_type": "code",
      "source": "file=open(\"t3.txt\",\"r\")\ndata=file.read()\nfile.close()\ndef check_word(data,word):\n    \n    words=data.split(\" \")\n    for i in words:\n        if word==i:\n            print(\"word found\")\n            break\n    else:\n            print(\"not found\")\nword=\"hello\"\ncheck_word(data,word)\n",
      "metadata": {
        "trusted": true
      },
      "outputs": [
        {
          "name": "stdout",
          "text": "word found\n",
          "output_type": "stream"
        }
      ],
      "execution_count": 4
    },
    {
      "cell_type": "code",
      "source": "count=0\nmax_count=0\nwords=[]\nfile=open(\"text.txt\",\"r\")    \nfor line in file:\n    string=line.lower().replace(',','').replace('.','').split(\" \")\n    for s in string:\n        words.append(s)\nfor i in range (0,len(words)):\n    count=1\n    for j in range (i+1,len(words)):\n        if words[i]==words[j]:\n            count=count+1\n        if count>max_count:\n            max_count=count\n            word=words[i]\nprint(\"Most repeated word:\",word)\n",
      "metadata": {
        "trusted": true
      },
      "outputs": [
        {
          "name": "stdout",
          "text": "Most repeated word: mango\n",
          "output_type": "stream"
        }
      ],
      "execution_count": 6
    },
    {
      "cell_type": "code",
      "source": "file1 = open(\"text.txt\", \"r\")\ndata=file1.read()  #hello world\nfile1.close()\ndef display():\n    vowel= 0\n    space=0\n    con=0\n    lower=0\n    upper=0\n    vowels = ['a', 'e', 'i', 'o', 'u', 'A', 'E', 'I', 'O', 'U']\n    words=data.split()\n    print(\"Total words:\",len(words))\n    for letter in data:\n        if letter in vowels:\n            vowel = vowel+1\n        elif letter==\" \":\n                space=space+1\n        else:\n            con=con+1\n        if letter.islower():\n            lower=lower+1\n        if letter.isupper():\n            upper=upper+1\n\n    print(\"Total Vowels:\")\n    print(vowel)\n    print(\"Total con:\")\n    print(con)\n    print(\"Total lower:\")\n    print(lower)\n    print(\"Total upper:\")\n    print(upper)\n    print(\"Total space:\")\n    print(space)\ndisplay()\n",
      "metadata": {
        "trusted": true
      },
      "outputs": [
        {
          "name": "stdout",
          "text": "Total words: 8\nTotal Vowels:\n19\nTotal con:\n24\nTotal lower:\n43\nTotal upper:\n0\nTotal space:\n8\n",
          "output_type": "stream"
        }
      ],
      "execution_count": 7
    },
    {
      "cell_type": "code",
      "source": "file = open (\"text.txt\",\"r\")\nr=file.read()\nword=r.split() \nprint(word)\nl1 =[]\nfor i in word:\n    l1.append(i[::-1])\nprint (l1)\n",
      "metadata": {
        "trusted": true
      },
      "outputs": [
        {
          "name": "stdout",
          "text": "['apple', 'banana', 'apple', 'mango', 'banana', 'mango', 'orange', 'mango']\n['elppa', 'ananab', 'elppa', 'ognam', 'ananab', 'ognam', 'egnaro', 'ognam']\n",
          "output_type": "stream"
        }
      ],
      "execution_count": 8
    }
  ]
}