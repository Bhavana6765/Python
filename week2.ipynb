{
  "metadata": {
    "kernelspec": {
      "name": "python",
      "display_name": "Python (Pyodide)",
      "language": "python"
    },
    "language_info": {
      "codemirror_mode": {
        "name": "python",
        "version": 3
      },
      "file_extension": ".py",
      "mimetype": "text/x-python",
      "name": "python",
      "nbconvert_exporter": "python",
      "pygments_lexer": "ipython3",
      "version": "3.8"
    }
  },
  "nbformat_minor": 4,
  "nbformat": 4,
  "cells": [
    {
      "cell_type": "code",
      "source": "for i in range(5, 0, -1):\n    print((str(i) + ' ') * (6-i))",
      "metadata": {
        "trusted": true
      },
      "outputs": [
        {
          "name": "stdout",
          "text": "5 \n4 4 \n3 3 3 \n2 2 2 2 \n1 1 1 1 1 \n",
          "output_type": "stream"
        }
      ],
      "execution_count": 7
    },
    {
      "cell_type": "code",
      "source": "char = \"9\"\nif char.isdigit():\n    print(\"Digit\")\nelif char.islower():\n    print(\"lowercase character\")\nelif char.isupper():\n    print(\"uppercase character\")\nelse:\n    print(\"special character\")",
      "metadata": {
        "trusted": true
      },
      "outputs": [
        {
          "name": "stdout",
          "text": "Digit\n",
          "output_type": "stream"
        }
      ],
      "execution_count": 8
    },
    {
      "cell_type": "code",
      "source": "n=8\na,b=0,1\ncount=0\nprint(\"Fibonacci sequence is:\")\nwhile count<n:\n    print(a,end=\" \")\n    a,b=b,a+b\n    count +=1",
      "metadata": {
        "trusted": true
      },
      "outputs": [
        {
          "name": "stdout",
          "text": "Fibonacci sequence is:\n0 1 1 2 3 5 8 13 ",
          "output_type": "stream"
        }
      ],
      "execution_count": 9
    },
    {
      "cell_type": "code",
      "source": "for n in range(2,15):\n    if n>1:\n        for i in range(2,n):\n            if n%i==0:\n                break\n        else:\n            print(n,end=\" \")",
      "metadata": {
        "trusted": true
      },
      "outputs": [
        {
          "name": "stdout",
          "text": "2 3 5 7 11 13 ",
          "output_type": "stream"
        }
      ],
      "execution_count": 13
    },
    {
      "cell_type": "code",
      "source": "import math\nlcm=math.lcm(4,86)\nprint(\"LCM of numbers is \",lcm)",
      "metadata": {
        "trusted": true
      },
      "outputs": [
        {
          "name": "stdout",
          "text": "LCM of numbers is  172\n",
          "output_type": "stream"
        }
      ],
      "execution_count": 15
    }
  ]
}