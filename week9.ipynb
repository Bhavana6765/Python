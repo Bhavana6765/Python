{
  "metadata": {
    "kernelspec": {
      "name": "python",
      "display_name": "Python (Pyodide)",
      "language": "python"
    },
    "language_info": {
      "codemirror_mode": {
        "name": "python",
        "version": 3
      },
      "file_extension": ".py",
      "mimetype": "text/x-python",
      "name": "python",
      "nbconvert_exporter": "python",
      "pygments_lexer": "ipython3",
      "version": "3.8"
    }
  },
  "nbformat_minor": 4,
  "nbformat": 4,
  "cells": [
    {
      "cell_type": "code",
      "source": "import numpy as np \narr1 = np.array([10,20,30,40,50]) \nprint(arr1)\nprint(type(arr1)) ",
      "metadata": {
        "trusted": true
      },
      "outputs": [
        {
          "name": "stdout",
          "text": "[10 20 30 40 50]\n<class 'numpy.ndarray'>\n",
          "output_type": "stream"
        }
      ],
      "execution_count": 1
    },
    {
      "cell_type": "code",
      "source": "import numpy as np\narr = np.array([1, 2, 3, 4, 5])  \nprint(arr)\nprint(arr[0])",
      "metadata": {
        "trusted": true
      },
      "outputs": [
        {
          "name": "stdout",
          "text": "[1 2 3 4 5]\n1\n",
          "output_type": "stream"
        }
      ],
      "execution_count": 3
    },
    {
      "cell_type": "code",
      "source": "import numpy as np \narr = np.array([[1, 2, 3], [4, 5, 6]]) \nprint(arr) \nprint(arr[1][1]) \nprint(arr[1])",
      "metadata": {
        "trusted": true
      },
      "outputs": [
        {
          "name": "stdout",
          "text": "[[1 2 3]\n [4 5 6]]\n5\n[4 5 6]\n",
          "output_type": "stream"
        }
      ],
      "execution_count": 4
    },
    {
      "cell_type": "code",
      "source": "import numpy as np \narr = np.array([[1, 2, 3], [4, 5, 6]]) \nprint(arr.ndim)",
      "metadata": {
        "trusted": true
      },
      "outputs": [
        {
          "name": "stdout",
          "text": "2\n",
          "output_type": "stream"
        }
      ],
      "execution_count": 5
    },
    {
      "cell_type": "code",
      "source": "import numpy as np \narr = np.array([[1, 2, 3], [4, 5, 6]]) \nprint(arr.itemsize)",
      "metadata": {
        "trusted": true
      },
      "outputs": [
        {
          "name": "stdout",
          "text": "4\n",
          "output_type": "stream"
        }
      ],
      "execution_count": 6
    },
    {
      "cell_type": "code",
      "source": "import numpy as np \narr = np.array([[1, 2, 3], [4, 5, 6]]) \nprint(arr.dtype)",
      "metadata": {
        "trusted": true
      },
      "outputs": [
        {
          "name": "stdout",
          "text": "int32\n",
          "output_type": "stream"
        }
      ],
      "execution_count": 7
    },
    {
      "cell_type": "code",
      "source": "import numpy as np \narr = np.array([[1, 2, 3], [4, 5, 6]]) \nprint(arr.size) \nprint(arr.shape)",
      "metadata": {
        "trusted": true
      },
      "outputs": [
        {
          "name": "stdout",
          "text": "6\n(2, 3)\n",
          "output_type": "stream"
        }
      ],
      "execution_count": 8
    },
    {
      "cell_type": "code",
      "source": "import numpy as np \narr = np.array([[1, 2, 3], [4, 5, 6]]) \na=arr.reshape(3,2)\nprint(a)",
      "metadata": {
        "trusted": true
      },
      "outputs": [
        {
          "name": "stdout",
          "text": "[[1 2]\n [3 4]\n [5 6]]\n",
          "output_type": "stream"
        }
      ],
      "execution_count": 9
    },
    {
      "cell_type": "code",
      "source": "import numpy as np \narr = np.array([[1, 2, 3], [4, 5, 6]]) \nprint(arr[0:,2]) ",
      "metadata": {
        "trusted": true
      },
      "outputs": [
        {
          "name": "stdout",
          "text": "[3 6]\n",
          "output_type": "stream"
        }
      ],
      "execution_count": 10
    },
    {
      "cell_type": "code",
      "source": "import numpy as np \narr = np.array([[1, 2, 3], [4, 5, 6]]) \nprint(arr.min())\nprint(arr.max())\nprint(arr.sum())",
      "metadata": {
        "trusted": true
      },
      "outputs": [
        {
          "name": "stdout",
          "text": "1\n6\n21\n",
          "output_type": "stream"
        }
      ],
      "execution_count": 12
    },
    {
      "cell_type": "code",
      "source": "import numpy as np \narr = np.array([1, 2, 3, 4, 5, 6, 7]) \nprint(arr[1:5]) \nprint(arr[4:]) \nprint(arr[:4]) \nprint(arr[-3:-1]) \nprint(arr[1:5:2])\nprint(arr[::2])",
      "metadata": {
        "trusted": true
      },
      "outputs": [
        {
          "name": "stdout",
          "text": "[2 3 4 5]\n[5 6 7]\n[1 2 3 4]\n[5 6]\n[2 4]\n[1 3 5 7]\n",
          "output_type": "stream"
        }
      ],
      "execution_count": 14
    },
    {
      "cell_type": "code",
      "source": "import numpy as np\narr=np.array([[1,2,3],[4,5,6]])\nprint(np.sqrt(arr))\nprint(np.std(arr))\n",
      "metadata": {
        "trusted": true
      },
      "outputs": [
        {
          "name": "stdout",
          "text": "[[1.         1.41421356 1.73205081]\n [2.         2.23606798 2.44948974]]\n1.707825127659933\n",
          "output_type": "stream"
        }
      ],
      "execution_count": 15
    },
    {
      "cell_type": "code",
      "source": "import numpy as np\narr1=np.array([[1,2,3],[4,5,6]])\narr2=np.array([[1,2,3],[4,5,6]])\nprint(arr1+arr2)\nprint(arr1-arr2)\nprint(arr1*arr2)\nprint(arr1/arr2)",
      "metadata": {
        "trusted": true
      },
      "outputs": [
        {
          "name": "stdout",
          "text": "[[ 2  4  6]\n [ 8 10 12]]\n[[0 0 0]\n [0 0 0]]\n[[ 1  4  9]\n [16 25 36]]\n[[1. 1. 1.]\n [1. 1. 1.]]\n",
          "output_type": "stream"
        }
      ],
      "execution_count": 16
    },
    {
      "cell_type": "code",
      "source": "import numpy as np\narr1=np.array([[1,2,3],[4,5,6]])\narr2=np.array([[7,8,9],[10,11,12]])\nprint(\"vstack:\",np.vstack((arr1,arr2)))\nprint(\"hstack:\",np.hstack((arr1,arr2)))",
      "metadata": {
        "trusted": true
      },
      "outputs": [
        {
          "name": "stdout",
          "text": "vstack: [[ 1  2  3]\n [ 4  5  6]\n [ 7  8  9]\n [10 11 12]]\nhstack: [[ 1  2  3  7  8  9]\n [ 4  5  6 10 11 12]]\n",
          "output_type": "stream"
        }
      ],
      "execution_count": 17
    },
    {
      "cell_type": "code",
      "source": "import numpy as np\narr=np.array([[1,2,3],[4,5,6]])\nprint(np.ravel(arr))",
      "metadata": {
        "trusted": true
      },
      "outputs": [
        {
          "name": "stdout",
          "text": "[1 2 3 4 5 6]\n",
          "output_type": "stream"
        }
      ],
      "execution_count": 18
    },
    {
      "cell_type": "code",
      "source": "import numpy as np\narr = np.array([10, 32, 30, 50, 20, 82, 91, 45])\ni = np.where(arr == 30)\nprint(i)",
      "metadata": {
        "trusted": true
      },
      "outputs": [
        {
          "name": "stdout",
          "text": "(array([2], dtype=int32),)\n",
          "output_type": "stream"
        }
      ],
      "execution_count": 19
    },
    {
      "cell_type": "code",
      "source": "import numpy as np  \narr=np.array([[1,4,2,3],[9,13,61,1],[43,24,88,22]])  \nsort_arr=np.sort(arr)  \nprint(sort_arr)",
      "metadata": {
        "trusted": true
      },
      "outputs": [
        {
          "name": "stdout",
          "text": "[[ 1  2  3  4]\n [ 1  9 13 61]\n [22 24 43 88]]\n",
          "output_type": "stream"
        }
      ],
      "execution_count": 21
    }
  ]
}