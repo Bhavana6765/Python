{
  "metadata": {
    "kernelspec": {
      "name": "python",
      "display_name": "Python (Pyodide)",
      "language": "python"
    },
    "language_info": {
      "codemirror_mode": {
        "name": "python",
        "version": 3
      },
      "file_extension": ".py",
      "mimetype": "text/x-python",
      "name": "python",
      "nbconvert_exporter": "python",
      "pygments_lexer": "ipython3",
      "version": "3.8"
    }
  },
  "nbformat_minor": 4,
  "nbformat": 4,
  "cells": [
    {
      "cell_type": "code",
      "source": "def is_sorted(input_list):\n   for i in range(len(input_list) - 1):\n      if input_list[i] > input_list[i + 1]:\n         return False\n      return True\nlist1 = [1, 2, 3, 4, 5]\nlist2 = [5, 3, 8, 2, 10]\nprint(is_sorted(list1))\nprint(is_sorted(list2))",
      "metadata": {
        "trusted": true
      },
      "outputs": [
        {
          "name": "stdout",
          "text": "True\nFalse\n",
          "output_type": "stream"
        }
      ],
      "execution_count": 2
    },
    {
      "cell_type": "code",
      "source": "def as_duplicate(list1):\n   a=len(list1)\n   for i in range(0,a+1):\n      for j in range(i+1,a):\n        if(list1[i]==list1[j]):\n          return True\n   return False\nlist1=[1,2,6,4,5,1]\nc=as_duplicate(list1)\nprint(c)",
      "metadata": {
        "trusted": true
      },
      "outputs": [
        {
          "name": "stdout",
          "text": "True\n",
          "output_type": "stream"
        }
      ],
      "execution_count": 4
    },
    {
      "cell_type": "code",
      "source": "def remove_duplicates(input_list):\n   unique_list = list(set(input_list))\n   return unique_list\noriginal_list = [2, 3, 2, 5, 6, 5, 8, 2, 9]\nnew_list = remove_duplicates(original_list)\nprint(new_list)",
      "metadata": {
        "trusted": true
      },
      "outputs": [
        {
          "name": "stdout",
          "text": "[2, 3, 5, 6, 8, 9]\n",
          "output_type": "stream"
        }
      ],
      "execution_count": 5
    },
    {
      "cell_type": "code",
      "source": "original_dict = {'a': 1, 'b': 2, 'c': 3}\ninterchanged_dict = {value: key for key, value in original_dict.items()}\nprint(interchanged_dict)",
      "metadata": {
        "trusted": true
      },
      "outputs": [
        {
          "name": "stdout",
          "text": "{1: 'a', 2: 'b', 3: 'c'}\n",
          "output_type": "stream"
        }
      ],
      "execution_count": 6
    },
    {
      "cell_type": "code",
      "source": "x=\"apple\"\ny=','.join(x)\nprint(y)",
      "metadata": {
        "trusted": true
      },
      "outputs": [
        {
          "name": "stdout",
          "text": "a,p,p,l,e\n",
          "output_type": "stream"
        }
      ],
      "execution_count": 7
    },
    {
      "cell_type": "code",
      "source": "x=\"This is just a test.\"\ny=x.replace(\"is\",\"\")\nprint(y)",
      "metadata": {
        "trusted": true
      },
      "outputs": [
        {
          "name": "stdout",
          "text": "Th  just a test.\n",
          "output_type": "stream"
        }
      ],
      "execution_count": 8
    },
    {
      "cell_type": "code",
      "source": "def capitalizing(sentence):\n   words = sentence.split()\n   cap_words=[]\n   for i in words:\n      cap_words.append(i.capitalize())\n   cap_sentence = ' '.join(cap_words)\n   print(cap_sentence)\ninput_sentence = \"Hello world welcome\"\ncapitalizing(input_sentence)",
      "metadata": {
        "trusted": true
      },
      "outputs": [
        {
          "name": "stdout",
          "text": "Hello World Welcome\n",
          "output_type": "stream"
        }
      ],
      "execution_count": 10
    },
    {
      "cell_type": "code",
      "source": "def generate_binary_strings(n, prefix=\"\"):\n   if n == 0:\n      print(prefix)\n   else:\n      generate_binary_strings(n - 1, prefix + \"0\")\n      generate_binary_strings(n - 1, prefix + \"1\")\nn_bits = 4\ngenerate_binary_strings(n_bits)",
      "metadata": {
        "trusted": true
      },
      "outputs": [
        {
          "name": "stdout",
          "text": "0000\n0001\n0010\n0011\n0100\n0101\n0110\n0111\n1000\n1001\n1010\n1011\n1100\n1101\n1110\n1111\n",
          "output_type": "stream"
        }
      ],
      "execution_count": 11
    },
    {
      "cell_type": "code",
      "source": "set1={1,2,3,4,5}\nset2={3,4,5,6,7}\nunion_result=set1.union(set2)\nunion_intersection=set1.intersection(set2)\nunion_difference=set1.difference(set2)\nsymmetric_difference_result = set1.symmetric_difference(set2)\nprint(\"Union: \",union_result)\nprint(\"Intersection: \",union_intersection)\nprint(\"Difference : \",union_difference)\nprint(\"symmetric difference : \",symmetric_difference_result)",
      "metadata": {
        "trusted": true
      },
      "outputs": [
        {
          "name": "stdout",
          "text": "Union:  {1, 2, 3, 4, 5, 6, 7}\nIntersection:  {3, 4, 5}\nDifference :  {1, 2}\nsymmetric difference :  {1, 2, 6, 7}\n",
          "output_type": "stream"
        }
      ],
      "execution_count": 12
    },
    {
      "cell_type": "code",
      "source": "def palindrome(x):\n   for i in range(0,len(x)):\n      if(x[i]==x[len(x)-i-1]):\n         return True\n      else:\n         return False\nInput=\"madam\"\nc=palindrome(Input)\nprint(c)",
      "metadata": {
        "trusted": true
      },
      "outputs": [
        {
          "name": "stdout",
          "text": "True\n",
          "output_type": "stream"
        }
      ],
      "execution_count": 13
    },
    {
      "cell_type": "code",
      "source": "matrix = [\n[1, 2, 3],\n[4, 5, 6],\n[7, 8, 9]\n]\nfor row in matrix:\n   print(row)",
      "metadata": {
        "trusted": true
      },
      "outputs": [
        {
          "name": "stdout",
          "text": "[1, 2, 3]\n[4, 5, 6]\n[7, 8, 9]\n",
          "output_type": "stream"
        }
      ],
      "execution_count": 14
    },
    {
      "cell_type": "code",
      "source": "def add_matrices(matrix1, matrix2):\n    rows = len(matrix1)\n    columns = len(matrix1[0])\n    result = []\n    for i in range(rows):\n       row = []\n       for j in range(columns):\n           row.append(matrix1[i][j] + matrix2[i][j])\n       result.append(row)\n    return result\nmatrix1 = [\n[1, 2, 3],\n[4, 5, 6],\n[7, 8, 9]\n]\nmatrix2 = [\n[9, 8, 7],\n[6, 5, 4],\n[3, 2, 1]\n]\nresult_matrix = add_matrices(matrix1, matrix2)\nfor row in result_matrix:\n    print(row)",
      "metadata": {
        "trusted": true
      },
      "outputs": [
        {
          "name": "stdout",
          "text": "[10, 10, 10]\n[10, 10, 10]\n[10, 10, 10]\n",
          "output_type": "stream"
        }
      ],
      "execution_count": 16
    },
    {
      "cell_type": "code",
      "source": "def multiply_matrices(matrix1, matrix2):\n   rows1 = len(matrix1)\n   columns1 = len(matrix1[0])\n   rows2 = len(matrix2)\n   columns2 = len(matrix2[0])\n   if columns1 != rows2:\n      raise ValueError(\"Matrices cannot be multiplied due to incompatible dimensions.\")\n   result = []\n   for i in range(rows1):\n      row = []\n      for j in range(columns2):\n         value = 0\n         for k in range(columns1):\n            value += matrix1[i][k] * matrix2[k][j]\n         row.append(value)\n      result.append(row)\n   return result\nmatrix1 = [\n[1, 2, 3],\n[4, 5, 6],\n[7, 8, 9]\n]\nmatrix2 = [\n[9, 8, 7],\n[6, 5, 4],\n[3, 2, 1]\n]\nresult_matrix = multiply_matrices(matrix1, matrix2)\nfor row in result_matrix:\n   print(row)",
      "metadata": {
        "trusted": true
      },
      "outputs": [
        {
          "name": "stdout",
          "text": "[30, 24, 18]\n[84, 69, 54]\n[138, 114, 90]\n",
          "output_type": "stream"
        }
      ],
      "execution_count": 17
    },
    {
      "cell_type": "code",
      "source": "def add(x, y):\n   return x + y\ndef subtract(x, y):\n   return x - y\ndef multiply(x, y):\n   return x * y\ndef divide(x, y):\n   if y == 0:\n      return \"Cannot divide by zero\"\n   return x / y\nchoice = '3'\nnum1 = 18\nnum2 = 5\nif choice == '1':\n   print(num1, \"+\", num2, \"=\", add(num1, num2))\nelif choice == '2':\n   print(num1, \"-\", num2, \"=\", subtract(num1, num2))\nelif choice == '3':\n   print(num1, \"*\", num2, \"=\", multiply(num1, num2))\nelif choice == '4':\n   print(num1, \"/\", num2, \"=\", divide(num1, num2))\nelse:\n   print(\"Invalid Input\")",
      "metadata": {
        "trusted": true
      },
      "outputs": [
        {
          "name": "stdout",
          "text": "18 * 5 = 90\n",
          "output_type": "stream"
        }
      ],
      "execution_count": 20
    },
    {
      "cell_type": "code",
      "source": "def fact(a):\n   if(a==0 or a==1):\n      return 1\n   else:\n      return a*fact(a-1)\nnum=8\nfactnum=fact(num)\nprint(factnum)",
      "metadata": {
        "trusted": true
      },
      "outputs": [
        {
          "name": "stdout",
          "text": "40320\n",
          "output_type": "stream"
        }
      ],
      "execution_count": 21
    },
    {
      "cell_type": "code",
      "source": "def cumulative_product(list1):\n   a=len(list1)\n   for i in range(0,a):\n      if list1[i]==0 or list1[i]==1 :\n         a=1\n      else:\n         a= a*list1[i]\n   return a\nlist1=[1,2,3,4,5]\nc=cumulative_product(list1)\nprint(c)",
      "metadata": {
        "trusted": true
      },
      "outputs": [
        {
          "name": "stdout",
          "text": "120\n",
          "output_type": "stream"
        }
      ],
      "execution_count": 22
    },
    {
      "cell_type": "code",
      "source": "def reverse_list(list1):\n   list2=[]\n   for i in range(len(list1) -1,-1,-1):\n      list2.append(list1[i])\n   return list2\nlist1=[1,2,3,4,5]\nlist2=reverse_list(list1)\nprint(list2)",
      "metadata": {
        "trusted": true
      },
      "outputs": [
        {
          "name": "stdout",
          "text": "[5, 4, 3, 2, 1]\n",
          "output_type": "stream"
        }
      ],
      "execution_count": 23
    }
  ]
}